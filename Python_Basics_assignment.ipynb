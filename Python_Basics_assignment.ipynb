{
  "nbformat": 4,
  "nbformat_minor": 0,
  "metadata": {
    "colab": {
      "provenance": []
    },
    "kernelspec": {
      "name": "python3",
      "display_name": "Python 3"
    },
    "language_info": {
      "name": "python"
    }
  },
  "cells": [
    {
      "cell_type": "markdown",
      "source": [
        "# Python Basics Questions"
      ],
      "metadata": {
        "id": "6l0W_VtmCAjC"
      }
    },
    {
      "cell_type": "markdown",
      "source": [
        "**1.What is Python, and why is it popular?**\n",
        "\n",
        "Ans:-Python is a high-level, interpreted programming language known for its simplicity, readability, and versatility. It was created by Guido van Rossum and first released in 1991.\n",
        "\n",
        "🔹 What Makes Python Special:\n",
        "Readable Syntax: Its code looks almost like plain English, making it easy to learn and use.\n",
        "\n",
        "Versatile: You can use it for web development, data science, machine learning, automation, software development, and more.\n",
        "\n",
        "Large Community: Millions of users and developers contribute libraries, frameworks, and support.\n",
        "\n",
        "Rich Libraries: Includes built-in and third-party libraries for almost anything (e.g., NumPy for data, Django for web, TensorFlow for ML).\n",
        "\n",
        "🔹 Why Python is Popular:\n",
        "Beginner-Friendly: Great for those new to programming.\n",
        "\n",
        "Cross-Platform: Works on Windows, macOS, Linux, and more.\n",
        "\n",
        "Strong Support for Data Science & AI: Widely used in tech industries for analysis, visualization, and AI applications.\n",
        "\n",
        "Rapid Development: Fast to write and deploy code compared to other languages like C++ or Java.\n",
        "\n",
        "Job Opportunities: High demand for Python developers, especially in tech and data fields.\n",
        "\n",
        "\n",
        "**2.What is an interpreter in Python?**\n",
        "\n",
        "Ans:-An interpreter in Python is a program that reads and executes Python code line by line, converting it into machine code that your computer can understand and run.\n",
        "\n",
        "🔹 How It Works:\n",
        "\n",
        "When you run a Python script:\n",
        "\n",
        "The Python interpreter reads the code.\n",
        "\n",
        "It translates each line into instructions the computer understands.\n",
        "\n",
        "It executes the code immediately, line by line.\n",
        "\n",
        "🔹 Key Features of an Interpreter:\n",
        "No need to compile the entire program before running.\n",
        "\n",
        "You can test code interactively using the Python shell or tools like Jupyter Notebook.\n",
        "\n",
        "Useful for rapid development and debugging, since you see results immediately.\n",
        "\n",
        "🔹 Example:\n",
        "\n",
        "print(\"Hello, world!\")\n",
        "\n",
        "When you run this, the Python interpreter:\n",
        "\n",
        "Reads the print statement.\n",
        "\n",
        "Translates it into machine code.\n",
        "\n",
        "Outputs: Hello, world!\n",
        "\n",
        "\n",
        "**3.What are pre-defined keywords in Python?**\n",
        "\n",
        "Ans:-Pre-defined keywords in Python are reserved words that have special meaning in the language. You cannot use them as variable names, function names, or identifiers because they are part of Python's syntax rules.\n",
        "\n",
        "🔹 Examples of Python Keywords:\n",
        "Here are some commonly used keywords:\n",
        "\n",
        "if, else, elif – for conditional statements\n",
        "\n",
        "for, while – for loops\n",
        "\n",
        "def – to define functions\n",
        "\n",
        "class – to define classes\n",
        "\n",
        "try, except, finally – for error handling\n",
        "\n",
        "import – to include external modules\n",
        "\n",
        "return, break, continue, pass – for controlling flow.\n",
        "\n",
        "\n",
        "**4.Can keywords be used as variable names?**\n",
        "\n",
        "Ans:-No, keywords cannot be used as variable names in Python.\n",
        "\n",
        "🔹 Why?\n",
        "\n",
        "Python keywords have predefined meanings and are used to define the structure and rules of the language. Using them as variable names would cause confusion for the interpreter and result in a syntax error.\n",
        "\n",
        "🔹 Example (Invalid Code):\n",
        "\n",
        "if = 10    # ❌ Error! 'if' is a keyword.\n",
        "This will raise a SyntaxError because if is used for conditional logic.\n",
        "\n",
        "**5.What is mutability in Python?**\n",
        "\n",
        "Ans:-Mutability in Python refers to whether or not an object’s value can be changed after it is created.\n",
        "\n",
        "🔹 Types of Objects:\n",
        "\n",
        "Mutable objects: Can be changed in place.\n",
        "\n",
        "Immutable objects: Cannot be changed once created.\n",
        "\n",
        "🔹 Mutable Objects (Can Change)\n",
        "Examples: list, dict, set, bytearray\n",
        "\n",
        "Behavior: You can modify, add, or remove items without creating a new object.\n",
        "\n",
        "**6.Why are lists mutable, but tuples are immutable?**\n",
        "\n",
        "Ans:-Lists are mutable and tuples are immutable in Python by design, and each serves a different purpose in programming.\n",
        "\n",
        "🔹 Why Lists Are Mutable:\n",
        "\n",
        "Use case: Lists are meant to store collections of items that can change — like adding, removing, or updating elements.\n",
        "\n",
        "Design goal: Flexibility and convenience for handling dynamic data.\n",
        "\n",
        "Operations allowed:\n",
        "\n",
        "Append, insert, delete, sort, reverse, etc.\n",
        "\n",
        "\n",
        "my_list = [1, 2, 3]\n",
        "my_list.append(4)    # ✅ List changes\n",
        "print(my_list)       # [1, 2, 3, 4]\n",
        "\n",
        "\n",
        "🔹 Why Tuples Are Immutable:\n",
        "\n",
        "Use case: Tuples are intended for fixed collections of items — like coordinates, days of the week, or constant settings.\n",
        "\n",
        "Design goal: Safety, predictability, and use as dictionary keys or elements of sets (which require immutability).\n",
        "\n",
        "Operations not allowed:\n",
        "\n",
        "No appending, deleting, or modifying items\n",
        "\n",
        "\n",
        "my_tuple = (1, 2, 3)\n",
        "# my_tuple[0] = 99   # ❌ Error: 'tuple' object does not support item assignment.\n",
        "\n",
        "**7.What is the difference between “==” and “is” operators in Python?**\n",
        "\n",
        "Ans:-In Python, == and is are different operators used for different purposes:\n",
        "\n",
        "🔹 == (Equality Operator):\n",
        "Checks if two values are equal, i.e., have the same contents.\n",
        "\n",
        "Compares the data inside the objects.\n",
        "\n",
        "\n",
        "a = [1, 2, 3]\n",
        "b = [1, 2, 3]\n",
        "\n",
        "print(a == b)  # ✅ True — because the contents are the same\n",
        "\n",
        "🔹 is (Identity Operator):\n",
        "Checks if two variables refer to the exact same object in memory.\n",
        "\n",
        "Compares the identity (memory address), not the content.\n",
        "\n",
        "a = [1, 2, 3]\n",
        "b = [1, 2, 3]\n",
        "\n",
        "print(a is b)  # ❌ False — because they are different objects in memory\n",
        "\n",
        "🔹 When is Returns True:\n",
        "\n",
        "a = b = [1, 2, 3]\n",
        "\n",
        "print(a is b)  # ✅ True — both variables point to the same object\n",
        "\n",
        "\n",
        "**8.What are logical operators in Python?**\n",
        "\n",
        "Ans:-Logical operators in Python are used to combine conditional statements (i.e., expressions that return True or False).\n",
        "\n",
        "1.and – Returns True if both conditions are True.\n",
        "Example: x > 5 and x < 10\n",
        "\n",
        "2.or – Returns True if at least one condition is True.\n",
        "Example: x < 5 or x == 10\n",
        "\n",
        "3.not – Reverses the truth value of a condition.\n",
        "Example: not(x > 5)\n",
        "\n",
        "**9.What is type casting in Python?**\n",
        "\n",
        "Ans:-Type casting in Python means converting one data type into another, like changing a string into an integer or a float into a string.\n",
        "\n",
        "🔹 Common Type Casting Functions:\n",
        "\n",
        "1.int() – Converts to integer\n",
        "\n",
        "Example: int(\"5\") → 5\n",
        "\n",
        "2.float() – Converts to floating-point number\n",
        "\n",
        "Example: float(\"3.14\") → 3.14\n",
        "\n",
        "3.str() – Converts to string\n",
        "\n",
        "Example: str(100) → \"100\"\n",
        "\n",
        "4.bool() – Converts to Boolean (True or False)\n",
        "\n",
        "Example: bool(0) → False, bool(5) → True\n",
        "\n",
        "🔹 Example:\n",
        "\n",
        "x = \"10\"\n",
        "y = int(x) + 5  # Converts string to integer before addition\n",
        "print(y)        # Output: 15\n",
        "\n",
        "**10.What is the difference between implicit and explicit type casting?**\n",
        "\n",
        "Ans:-🔹 Implicit Type Casting (Automatic Type Conversion):\n",
        "\n",
        "Python automatically converts one data type to another without the programmer’s intervention.\n",
        "\n",
        "Occurs when there is no risk of losing data or no need for explicit instructions.\n",
        "\n",
        "Happens when converting a smaller data type to a larger one (e.g., int to float).\n",
        "\n",
        "Example:\n",
        "\n",
        "x = 5      # int\n",
        "y = 2.5    # float\n",
        "result = x + y  # Implicit conversion of int to float\n",
        "print(result)    # Output: 7.5 (float)\n",
        "\n",
        "In this case, Python automatically converts the int (5) to a float (5.0) before performing the addition.\n",
        "\n",
        "🔹 Explicit Type Casting (Manual Type Conversion):\n",
        "\n",
        "The programmer explicitly converts one data type to another using functions like int(), float(), str(), etc.\n",
        "\n",
        "The programmer decides when and how to convert types.\n",
        "\n",
        "Used when converting from a larger data type to a smaller one, or when a specific conversion is required.\n",
        "\n",
        "Example:\n",
        "\n",
        "x = \"10\"  # string\n",
        "y = int(x) + 5  # Explicitly convert string to integer\n",
        "print(y)  # Output: 15\n",
        "\n",
        "Here, the string \"10\" is explicitly converted to an integer using int().\n",
        "\n",
        "**11.What is the purpose of conditional statements in Python?**\n",
        "\n",
        "Ans:-The purpose of conditional statements in Python is to control the flow of execution based on whether certain conditions are True or False. They allow the program to make decisions and execute different blocks of code depending on the conditions.\n",
        "\n",
        "🔹 Common Types of Conditional Statements:\n",
        "\n",
        "if statement: Executes a block of code if the condition is True.\n",
        "\n",
        "elif statement: Checks another condition if the if condition is False.\n",
        "\n",
        "else statement: Executes a block of code if all previous conditions are False.\n",
        "\n",
        "🔹 Basic Structure:\n",
        "\n",
        "if condition:\n",
        "    # Code block executed if condition is True\n",
        "elif another_condition:\n",
        "    # Code block executed if previous conditions are False but this is True\n",
        "else:\n",
        "    # Code block executed if all conditions are False\n",
        "🔹 Example:\n",
        "\n",
        "x = 10\n",
        "if x > 5:\n",
        "    print(\"x is greater than 5\")\n",
        "elif x == 5:\n",
        "    print(\"x is equal to 5\")\n",
        "else:\n",
        "    print(\"x is less than 5\")\n",
        "Output: x is greater than 5\n",
        "\n",
        "🔹 Purpose of Conditional Statements:\n",
        "\n",
        "Decision-making: Allows the program to choose between different actions based on conditions.\n",
        "\n",
        "Control flow: Directs the flow of the program depending on variables or inputs.\n",
        "\n",
        "Complex logic: Makes it possible to implement more complex behaviors in a program.\n",
        "\n",
        "**12.How does the elif statement work?**\n",
        "\n",
        "Ans:-The **elif** (short for \"else if\") statement in Python is used to check an additional condition if the preceding if condition is False. It allows you to test multiple conditions in sequence, ensuring that only one block of code gets executed.\n",
        "\n",
        "🔹 How elif Works:\n",
        "If the if condition is False, the program moves to check the elif condition.\n",
        "\n",
        "If the elif condition is True, its corresponding block of code will run.\n",
        "\n",
        "If there are multiple elif statements, Python checks each one in order until it finds the first one that is True.\n",
        "\n",
        "If none of the conditions (including if and elif) are True, the else block (if present) will run.\n",
        "\n",
        "**13.What is the difference between for and while loops?**\n",
        "\n",
        "Ans:-The for and while loops in Python are both used for repetition, but they differ in how they control the flow of execution and when they stop.\n",
        "\n",
        "🔹 for Loop:\n",
        "\n",
        "Purpose: Iterates over a sequence (like a list, tuple, string, or range) and executes the code block for each element.\n",
        "\n",
        "Use Case: When you know in advance how many times you want to repeat the loop, such as looping through a collection or a range of numbers.\n",
        "\n",
        "Structure:\n",
        "python\n",
        "Copy code\n",
        "for element in sequence:\n",
        "\n",
        "    # Code to execute for each element\n",
        "\n",
        "Example:\n",
        "\n",
        "for i in range(5):  # Loops 5 times, i takes values from 0 to 4\n",
        "    print(i)\n",
        "Output:\n",
        "\n",
        "\n",
        "0\n",
        "1\n",
        "2\n",
        "3\n",
        "4\n",
        "\n",
        "🔹 while Loop:\n",
        "\n",
        "Purpose: Repeats the code block as long as a condition is True.\n",
        "\n",
        "Use Case: When you don't know in advance how many times you will need to repeat, but the loop will stop based on a condition being met.\n",
        "\n",
        "Structure:\n",
        "\n",
        "while condition:\n",
        "    # Code to execute as long as the condition is True\n",
        "\n",
        "Example:\n",
        "\n",
        "i = 0\n",
        "while i < 5:  # Continues as long as i is less than 5\n",
        "    print(i)\n",
        "    i += 1\n",
        "\n",
        "Output:\n",
        "\n",
        "\n",
        "0\n",
        "1\n",
        "2\n",
        "3\n",
        "4\n",
        "\n",
        "**14.Describe a scenario where a while loop is more suitable than a for loop.**\n",
        "\n",
        "Ans:-A while loop is more suitable than a for loop in scenarios where you don't know the exact number of iterations in advance, but you want the loop to continue until a certain condition is met.\n",
        "\n",
        "🔹 Scenario Example: Waiting for User Input\n",
        "\n",
        "Imagine you have a program where the user needs to enter a valid password. You don't know how many attempts it will take, so you can't predefine the number of iterations, but you want to keep prompting the user until they enter the correct password.\n",
        "\n",
        "🔹 Why a while loop is ideal:\n",
        "The loop continues indefinitely until the user provides the correct input.\n",
        "\n",
        "The number of attempts is unknown, making a while loop the natural choice since it works based on a condition.\n",
        "\n",
        "🔹 Code Example:\n",
        "\n",
        "correct_password = \"python123\"\n",
        "user_input = \"\"\n",
        "\n",
        "while user_input != correct_password:\n",
        "    user_input = input(\"Enter your password: \")\n",
        "    if user_input != correct_password:\n",
        "        print(\"Incorrect password, try again.\")\n",
        "\n",
        "print(\"Access granted!\")\n",
        "\n",
        "🔹 Explanation:\n",
        "\n",
        "The while loop keeps running as long as the condition (user_input != correct_password) is True.\n",
        "\n",
        "It doesn't stop until the user enters the correct password, and you can't predict in advance how many attempts it will take.\n",
        "\n",
        "This is a perfect use case for a while loop because the number of iterations depends on the user's actions, not a predefined sequence or range.\n"
      ],
      "metadata": {
        "id": "3d6zOm294-ZS"
      }
    },
    {
      "cell_type": "markdown",
      "source": [
        "#Practical Questions"
      ],
      "metadata": {
        "id": "QR1fmbtWCOfJ"
      }
    },
    {
      "cell_type": "markdown",
      "source": [
        "**1.Write a Python program to print \"Hello, World!**"
      ],
      "metadata": {
        "id": "_PgRCIvWCUBS"
      }
    },
    {
      "cell_type": "code",
      "source": [
        "print(\"Hello, World!\")"
      ],
      "metadata": {
        "colab": {
          "base_uri": "https://localhost:8080/"
        },
        "id": "kF1ybbUCB9jE",
        "outputId": "b6b13dd4-b525-426a-a69a-08ae7e40a5ac"
      },
      "execution_count": 1,
      "outputs": [
        {
          "output_type": "stream",
          "name": "stdout",
          "text": [
            "Hello, World!\n"
          ]
        }
      ]
    },
    {
      "cell_type": "markdown",
      "source": [
        "**2.Write a Python program that displays your name and age.**"
      ],
      "metadata": {
        "id": "vz36Rii5CqrX"
      }
    },
    {
      "cell_type": "code",
      "source": [
        "name = \"Muzamil\"\n",
        "age = 25\n",
        "print(name)\n",
        "print(age)"
      ],
      "metadata": {
        "colab": {
          "base_uri": "https://localhost:8080/"
        },
        "id": "yqc_biVGCo5C",
        "outputId": "351187e7-6be5-4242-fcf6-d5410938e15d"
      },
      "execution_count": 6,
      "outputs": [
        {
          "output_type": "stream",
          "name": "stdout",
          "text": [
            "Muzamil\n",
            "25\n"
          ]
        }
      ]
    },
    {
      "cell_type": "markdown",
      "source": [
        "**3.Write code to print all the pre-defined keywords in Python using the keyword library.**"
      ],
      "metadata": {
        "id": "OAs_iL6yD1Bw"
      }
    },
    {
      "cell_type": "code",
      "source": [
        "import keyword\n",
        "print(keyword.kwlist)"
      ],
      "metadata": {
        "colab": {
          "base_uri": "https://localhost:8080/"
        },
        "id": "2-ak5SL7DqgH",
        "outputId": "250b1aca-5e5b-4ac3-d3a5-2852edcb1bc5"
      },
      "execution_count": 8,
      "outputs": [
        {
          "output_type": "stream",
          "name": "stdout",
          "text": [
            "['False', 'None', 'True', 'and', 'as', 'assert', 'async', 'await', 'break', 'class', 'continue', 'def', 'del', 'elif', 'else', 'except', 'finally', 'for', 'from', 'global', 'if', 'import', 'in', 'is', 'lambda', 'nonlocal', 'not', 'or', 'pass', 'raise', 'return', 'try', 'while', 'with', 'yield']\n"
          ]
        }
      ]
    },
    {
      "cell_type": "markdown",
      "source": [
        "**4.Write a program that checks if a given word is a Python keyword.**"
      ],
      "metadata": {
        "id": "snwPX53jEXUB"
      }
    },
    {
      "cell_type": "code",
      "source": [
        "import keyword\n",
        "\n",
        "word = input(\"Enter a word: \")\n",
        "\n",
        "# Check if the word is a keyword\n",
        "print(word, \"is a Python keyword\" if keyword.iskeyword(word) else \"is not a Python keyword\")\n"
      ],
      "metadata": {
        "colab": {
          "base_uri": "https://localhost:8080/"
        },
        "id": "sad0m0dfEePp",
        "outputId": "d9cb989f-18b4-451a-a682-fdcf50be08b2"
      },
      "execution_count": 11,
      "outputs": [
        {
          "output_type": "stream",
          "name": "stdout",
          "text": [
            "Enter a word: str\n",
            "str is not a Python keyword\n"
          ]
        }
      ]
    },
    {
      "cell_type": "markdown",
      "source": [
        "**5. Create a list and tuple in Python, and demonstrate how attempting to change an element works differently for each**"
      ],
      "metadata": {
        "id": "b22Grf-1FXSs"
      }
    },
    {
      "cell_type": "code",
      "source": [
        "# List\n",
        "my_list = [1, 2, 3, 4]\n",
        "print(my_list)\n",
        "my_list[1] = 10  # Changing an element in the list\n",
        "print( my_list)"
      ],
      "metadata": {
        "colab": {
          "base_uri": "https://localhost:8080/"
        },
        "id": "PQdo8X9-GFjq",
        "outputId": "5d85f2e1-8996-4a15-bd32-2858a875697e"
      },
      "execution_count": 13,
      "outputs": [
        {
          "output_type": "stream",
          "name": "stdout",
          "text": [
            "[1, 2, 3, 4]\n",
            "[1, 10, 3, 4]\n"
          ]
        }
      ]
    },
    {
      "cell_type": "code",
      "source": [
        "# Tuple\n",
        "my_tuple = (1, 2, 3, 4)\n",
        "print( my_tuple)\n",
        "\n",
        "my_tuple[1] = 10  # Trying to change an element in the tuple\n"
      ],
      "metadata": {
        "colab": {
          "base_uri": "https://localhost:8080/",
          "height": 193
        },
        "id": "yM8aOD7mE73W",
        "outputId": "82866e3c-bb8a-42e5-ca6f-ea5dc3cd35d2"
      },
      "execution_count": 15,
      "outputs": [
        {
          "output_type": "stream",
          "name": "stdout",
          "text": [
            "(1, 2, 3, 4)\n"
          ]
        },
        {
          "output_type": "error",
          "ename": "TypeError",
          "evalue": "'tuple' object does not support item assignment",
          "traceback": [
            "\u001b[0;31m---------------------------------------------------------------------------\u001b[0m",
            "\u001b[0;31mTypeError\u001b[0m                                 Traceback (most recent call last)",
            "\u001b[0;32m<ipython-input-15-d0fb4662f0b0>\u001b[0m in \u001b[0;36m<cell line: 0>\u001b[0;34m()\u001b[0m\n\u001b[1;32m      3\u001b[0m \u001b[0mprint\u001b[0m\u001b[0;34m(\u001b[0m \u001b[0mmy_tuple\u001b[0m\u001b[0;34m)\u001b[0m\u001b[0;34m\u001b[0m\u001b[0;34m\u001b[0m\u001b[0m\n\u001b[1;32m      4\u001b[0m \u001b[0;34m\u001b[0m\u001b[0m\n\u001b[0;32m----> 5\u001b[0;31m \u001b[0mmy_tuple\u001b[0m\u001b[0;34m[\u001b[0m\u001b[0;36m1\u001b[0m\u001b[0;34m]\u001b[0m \u001b[0;34m=\u001b[0m \u001b[0;36m10\u001b[0m  \u001b[0;31m# Trying to change an element in the tuple\u001b[0m\u001b[0;34m\u001b[0m\u001b[0;34m\u001b[0m\u001b[0m\n\u001b[0m",
            "\u001b[0;31mTypeError\u001b[0m: 'tuple' object does not support item assignment"
          ]
        }
      ]
    },
    {
      "cell_type": "markdown",
      "source": [
        "**6.Write a function to demonstrate the behavior of mutable and immutable arguments.**"
      ],
      "metadata": {
        "id": "yZlJyhMrGnc6"
      }
    },
    {
      "cell_type": "code",
      "source": [
        "def demo(my_list, my_text):\n",
        "    my_list.append(100)       # list will change\n",
        "    my_text = my_text + \"!\"   # string will not change outside\n",
        "    print(\"Inside function:\")\n",
        "    print(\"List:\", my_list)\n",
        "    print(\"Text:\", my_text)\n",
        "\n",
        "# create list and string\n",
        "nums = [1, 2, 3]\n",
        "msg = \"Hello\"\n",
        "\n",
        "# call the function\n",
        "demo(nums, msg)\n",
        "\n",
        "# print outside function\n",
        "print(\"Outside function:\")\n",
        "print(\"List:\", nums)   # list changed\n",
        "print(\"Text:\", msg)    # string not changed\n"
      ],
      "metadata": {
        "colab": {
          "base_uri": "https://localhost:8080/"
        },
        "id": "1Dm8_oCPGeEz",
        "outputId": "6ee7c680-1948-4289-bc99-eed5efc60b2f"
      },
      "execution_count": 16,
      "outputs": [
        {
          "output_type": "stream",
          "name": "stdout",
          "text": [
            "Inside function:\n",
            "List: [1, 2, 3, 100]\n",
            "Text: Hello!\n",
            "Outside function:\n",
            "List: [1, 2, 3, 100]\n",
            "Text: Hello\n"
          ]
        }
      ]
    },
    {
      "cell_type": "markdown",
      "source": [
        "**7.Write a program that performs basic arithmetic operations on two user-input numbers.**"
      ],
      "metadata": {
        "id": "3wA_UxzvHcRl"
      }
    },
    {
      "cell_type": "code",
      "source": [
        "# Get input from the user\n",
        "num1 = float(input(\"Enter first number: \"))\n",
        "num2 = float(input(\"Enter second number: \"))\n",
        "\n",
        "# Perform arithmetic operations\n",
        "print(\"Addition:\", num1 + num2)\n",
        "print(\"Subtraction:\", num1 - num2)\n",
        "print(\"Multiplication:\", num1 * num2)\n",
        "\n",
        "# Check for division by zero\n",
        "if num2 != 0:\n",
        "    print(\"Division:\", num1 / num2)\n",
        "else:\n",
        "    print(\"Division: Cannot divide by zero\")\n"
      ],
      "metadata": {
        "colab": {
          "base_uri": "https://localhost:8080/"
        },
        "id": "a_tlXtYJHsh1",
        "outputId": "1ef831bd-7e12-4977-f988-02ed58ced0c0"
      },
      "execution_count": 17,
      "outputs": [
        {
          "output_type": "stream",
          "name": "stdout",
          "text": [
            "Enter first number: 4\n",
            "Enter second number: 6\n",
            "Addition: 10.0\n",
            "Subtraction: -2.0\n",
            "Multiplication: 24.0\n",
            "Division: 0.6666666666666666\n"
          ]
        }
      ]
    },
    {
      "cell_type": "markdown",
      "source": [
        "**8.Write a program to demonstrate the use of logical operators.**"
      ],
      "metadata": {
        "id": "80ayLUhPH5s_"
      }
    },
    {
      "cell_type": "code",
      "source": [
        "# Get input from the user\n",
        "a = int(input(\"Enter first number: \"))\n",
        "b = int(input(\"Enter second number: \"))\n",
        "\n",
        "# Demonstrate logical AND\n",
        "if a > 0 and b > 0:\n",
        "    print(\"Both numbers are positive.\")\n",
        "\n",
        "# Demonstrate logical OR\n",
        "if a > 0 or b > 0:\n",
        "    print(\"At least one number is positive.\")\n",
        "\n",
        "# Demonstrate logical NOT\n",
        "if not (a < 0 and b < 0):\n",
        "    print(\"Both numbers are not negative.\")\n"
      ],
      "metadata": {
        "colab": {
          "base_uri": "https://localhost:8080/"
        },
        "id": "7zbuQyGEHuq-",
        "outputId": "23821ebc-6315-43f5-863f-29b7109a9dc0"
      },
      "execution_count": 18,
      "outputs": [
        {
          "output_type": "stream",
          "name": "stdout",
          "text": [
            "Enter first number: 7\n",
            "Enter second number: 9\n",
            "Both numbers are positive.\n",
            "At least one number is positive.\n",
            "Both numbers are not negative.\n"
          ]
        }
      ]
    },
    {
      "cell_type": "markdown",
      "source": [
        "**9.Write a Python program to convert user input from string to integer, float, and boolean types.**"
      ],
      "metadata": {
        "id": "KuoHwcKPIMDD"
      }
    },
    {
      "cell_type": "code",
      "source": [
        "# Get input from user\n",
        "value = input(\"Enter something: \")\n",
        "\n",
        "# Convert and print\n",
        "print(\"As integer:\", int(value))\n",
        "print(\"As float:\", float(value))\n",
        "print(\"As boolean:\", bool(value))\n"
      ],
      "metadata": {
        "colab": {
          "base_uri": "https://localhost:8080/"
        },
        "id": "a-Or3UXSIVwp",
        "outputId": "cfed47d6-5109-4a09-a867-5a27404086c1"
      },
      "execution_count": 19,
      "outputs": [
        {
          "output_type": "stream",
          "name": "stdout",
          "text": [
            "Enter something: 44\n",
            "As integer: 44\n",
            "As float: 44.0\n",
            "As boolean: True\n"
          ]
        }
      ]
    },
    {
      "cell_type": "markdown",
      "source": [
        "**10. Write code to demonstrate type casting with list elements**"
      ],
      "metadata": {
        "id": "6jm6ciTqIq3E"
      }
    },
    {
      "cell_type": "code",
      "source": [
        "# List of string numbers\n",
        "numbers = [\"10\", \"20\", \"30\"]\n",
        "\n",
        "# Convert to integers\n",
        "numbers_int = [int(n) for n in numbers]\n",
        "\n",
        "print(\"Before:\", numbers)\n",
        "print(\"After:\", numbers_int)\n"
      ],
      "metadata": {
        "colab": {
          "base_uri": "https://localhost:8080/"
        },
        "id": "pNUyIgZeImj9",
        "outputId": "98fe567b-77af-4b2a-fb72-af7fe913d65d"
      },
      "execution_count": 23,
      "outputs": [
        {
          "output_type": "stream",
          "name": "stdout",
          "text": [
            "Before: ['10', '20', '30']\n",
            "After: [10, 20, 30]\n"
          ]
        }
      ]
    },
    {
      "cell_type": "markdown",
      "source": [
        "**11. Write a program that checks if a number is positive, negative, or zero.**"
      ],
      "metadata": {
        "id": "zL-QAThjJZJI"
      }
    },
    {
      "cell_type": "code",
      "source": [
        "# Get number from user\n",
        "num = float(input(\"Enter a number: \"))\n",
        "\n",
        "# Check the number\n",
        "if num > 0:\n",
        "    print(\"The number is positive.\")\n",
        "elif num < 0:\n",
        "    print(\"The number is negative.\")\n",
        "else:\n",
        "    print(\"The number is zero.\")\n"
      ],
      "metadata": {
        "colab": {
          "base_uri": "https://localhost:8080/"
        },
        "id": "xmS3OGOwJjz8",
        "outputId": "2f76cc52-c249-4541-923d-d3accd21ab01"
      },
      "execution_count": 24,
      "outputs": [
        {
          "output_type": "stream",
          "name": "stdout",
          "text": [
            "Enter a number: 7\n",
            "The number is positive.\n"
          ]
        }
      ]
    },
    {
      "cell_type": "markdown",
      "source": [
        "**12.Write a for loop to print numbers from 1 to 10.**"
      ],
      "metadata": {
        "id": "wPFL84hRJqEv"
      }
    },
    {
      "cell_type": "code",
      "source": [
        "for i in range(1, 11):\n",
        "    print(i)\n"
      ],
      "metadata": {
        "colab": {
          "base_uri": "https://localhost:8080/"
        },
        "id": "ypPM1hGtJ6Ot",
        "outputId": "2dc14576-6645-4a8c-ccb4-1fd1bf23254f"
      },
      "execution_count": 25,
      "outputs": [
        {
          "output_type": "stream",
          "name": "stdout",
          "text": [
            "1\n",
            "2\n",
            "3\n",
            "4\n",
            "5\n",
            "6\n",
            "7\n",
            "8\n",
            "9\n",
            "10\n"
          ]
        }
      ]
    },
    {
      "cell_type": "markdown",
      "source": [
        "**13.Write a Python program to find the sum of all even numbers between 1 and 50.**"
      ],
      "metadata": {
        "id": "NNZf-K8vJ-pv"
      }
    },
    {
      "cell_type": "code",
      "source": [
        "sum_even = 0\n",
        "for i in range(2, 51, 2):  # Even numbers between 1 and 50\n",
        "    sum_even += i\n",
        "\n",
        "print(\"Sum of all even numbers between 1 and 50:\", sum_even)\n",
        "\n"
      ],
      "metadata": {
        "colab": {
          "base_uri": "https://localhost:8080/"
        },
        "id": "TQwcWmYNJ74O",
        "outputId": "9c6b3cf7-f3cd-494e-9926-442b1be558a3"
      },
      "execution_count": 28,
      "outputs": [
        {
          "output_type": "stream",
          "name": "stdout",
          "text": [
            "Sum of all even numbers between 1 and 50: 650\n"
          ]
        }
      ]
    },
    {
      "cell_type": "markdown",
      "source": [
        "**14. Write a program to reverse a string using a while loop.**"
      ],
      "metadata": {
        "id": "z-mHApWzKkWz"
      }
    },
    {
      "cell_type": "code",
      "source": [
        "# Get input from user\n",
        "string = input(\"Enter a string: \")\n",
        "\n",
        "# Initialize reversed string and index\n",
        "reversed_string = \"\"\n",
        "index = len(string) - 1\n",
        "\n",
        "# Reverse the string\n",
        "while index >= 0:\n",
        "    reversed_string += string[index]\n",
        "    index -= 1\n",
        "\n",
        "print(\"Reversed string:\", reversed_string)\n"
      ],
      "metadata": {
        "colab": {
          "base_uri": "https://localhost:8080/"
        },
        "id": "-TOVSr20KLHV",
        "outputId": "a0101634-6d44-412e-9273-0266e046ba9e"
      },
      "execution_count": 29,
      "outputs": [
        {
          "output_type": "stream",
          "name": "stdout",
          "text": [
            "Enter a string: \"muzamil\"\n",
            "Reversed string: \"limazum\"\n"
          ]
        }
      ]
    },
    {
      "cell_type": "markdown",
      "source": [
        "**15.Write a Python program to calculate the factorial of a number provided by the user using a while loop.**"
      ],
      "metadata": {
        "id": "_DsuUHX6K9nT"
      }
    },
    {
      "cell_type": "code",
      "source": [
        "# Get input from user\n",
        "num = int(input(\"Enter a number: \"))\n",
        "\n",
        "# Initialize factorial\n",
        "factorial = 1\n",
        "\n",
        "# Calculate factorial using while loop\n",
        "while num > 0:\n",
        "    factorial *= num\n",
        "    num -= 1\n",
        "\n",
        "print(\"Factorial:\", factorial)\n"
      ],
      "metadata": {
        "colab": {
          "base_uri": "https://localhost:8080/"
        },
        "id": "E4wbxqn-K2sU",
        "outputId": "012ee054-5bbb-4666-a474-eb07caf57be7"
      },
      "execution_count": 31,
      "outputs": [
        {
          "output_type": "stream",
          "name": "stdout",
          "text": [
            "Enter a number: 6\n",
            "Factorial: 720\n"
          ]
        }
      ]
    }
  ]
}